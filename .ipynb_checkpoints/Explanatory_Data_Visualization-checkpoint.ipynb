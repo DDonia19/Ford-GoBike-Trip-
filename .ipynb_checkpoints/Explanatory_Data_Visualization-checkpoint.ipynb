{
 "cells": [
  {
   "cell_type": "markdown",
   "metadata": {
    "slideshow": {
     "slide_type": "slide"
    }
   },
   "source": [
    "#  <center>Bicycle Share Use in the greater San Francisco Bay area</center>\n",
    "##  <center>Explanatory Data Visualization - by Donia Djerbi</center>"
   ]
  },
  {
   "cell_type": "markdown",
   "metadata": {
    "slideshow": {
     "slide_type": "slide"
    }
   },
   "source": [
    "\n",
    "\n",
    "\n",
    "\n",
    "## Investigation Overview\n",
    "\n",
    "\n",
    "In this investigation, I wanted to look at the cicycle hires informations to help understand the users's choice for a specific station. The main focus was on the trip duration and distance, the start hour, the day of the week and the nature of the user\n",
    "\n",
    "\n",
    "## Dataset Overview\n",
    "\n",
    "The data consists of trips features of 176114 bicycle hires. The attributes included the trip duration, the station name, the start hour, the day of the week as well as additional variables such as the user type and the travelled distance."
   ]
  },
  {
   "cell_type": "code",
   "execution_count": 1,
   "metadata": {
    "slideshow": {
     "slide_type": "skip"
    }
   },
   "outputs": [],
   "source": [
    "# import all packages and set plots to be embedded inline\n",
    "import numpy as np\n",
    "import pandas as pd\n",
    "import matplotlib.pyplot as plt\n",
    "import seaborn as sb\n",
    "sb.set_theme()\n",
    "import plotly.express as px\n",
    "import statistics\n",
    "\n",
    "# Import library and module to calculate the distance\n",
    "import geopy.distance\n",
    "from geopy.distance import geodesic\n",
    "\n",
    "%matplotlib inline\n",
    "# suppress warnings from final output\n",
    "import warnings\n",
    "warnings.simplefilter(\"ignore\")"
   ]
  },
  {
   "cell_type": "code",
   "execution_count": 2,
   "metadata": {
    "scrolled": true,
    "slideshow": {
     "slide_type": "skip"
    }
   },
   "outputs": [],
   "source": [
    "# load in the dataset into a pandas dataframe, print statistics\n",
    "df = pd.read_csv('201902-fordgobike-tripdata.csv')"
   ]
  },
  {
   "cell_type": "code",
   "execution_count": 3,
   "metadata": {
    "slideshow": {
     "slide_type": "skip"
    }
   },
   "outputs": [],
   "source": [
    "# Convert the member birth year to int and fill the nan values with the mean birth year\n",
    "df['member_birth_year'] = pd.to_numeric(df['member_birth_year'], errors='coerce').fillna(1984).astype(int)"
   ]
  },
  {
   "cell_type": "code",
   "execution_count": 4,
   "metadata": {
    "slideshow": {
     "slide_type": "skip"
    }
   },
   "outputs": [],
   "source": [
    "# Convert start_time and end_time to datetime\n",
    "df['start_time'] = pd.to_datetime(df['start_time'])"
   ]
  },
  {
   "cell_type": "code",
   "execution_count": 5,
   "metadata": {
    "slideshow": {
     "slide_type": "skip"
    }
   },
   "outputs": [],
   "source": [
    "# Find correspanding start hour and day of the week\n",
    "df['start_hour'] = df.start_time.dt.hour\n",
    "df['start_dayofweek'] = df.start_time.dt.day_name()\n",
    "df['Year'] = df.start_time.dt.year"
   ]
  },
  {
   "cell_type": "code",
   "execution_count": 6,
   "metadata": {
    "slideshow": {
     "slide_type": "skip"
    }
   },
   "outputs": [],
   "source": [
    "df['Date'] = df.start_time.dt.date\n",
    "df['Date'] = pd.to_datetime(df['Date'])"
   ]
  },
  {
   "cell_type": "code",
   "execution_count": 7,
   "metadata": {
    "slideshow": {
     "slide_type": "skip"
    }
   },
   "outputs": [],
   "source": [
    "# Define the order of days\n",
    "cat_type = pd.api.types.CategoricalDtype(categories=['Monday', 'Tuesday', 'Wednesday', 'Thursday', 'Friday', 'Saturday', 'Sunday'], ordered=True)\n",
    "df['start_dayofweek']  = df['start_dayofweek'].astype(cat_type)"
   ]
  },
  {
   "cell_type": "code",
   "execution_count": 8,
   "metadata": {
    "slideshow": {
     "slide_type": "skip"
    }
   },
   "outputs": [],
   "source": [
    "# Find the age of the users\n",
    "df['Age'] = 2019 - df['member_birth_year']"
   ]
  },
  {
   "cell_type": "code",
   "execution_count": 9,
   "metadata": {
    "slideshow": {
     "slide_type": "skip"
    }
   },
   "outputs": [],
   "source": [
    "# Convert member_gender and user_type to category data type\n",
    "df['member_gender'] = df['member_gender'].astype('category')\n",
    "df['user_type'] = df['user_type'].astype('category')\n",
    "df['bike_share_for_all_trip'] = df['bike_share_for_all_trip'].astype('category')"
   ]
  },
  {
   "cell_type": "code",
   "execution_count": 10,
   "metadata": {
    "slideshow": {
     "slide_type": "skip"
    }
   },
   "outputs": [],
   "source": [
    "# Get the ride duration per minute\n",
    "df['duration_min'] = df['duration_sec']/ 60\n",
    "\n",
    "# Get the ride duration per hour \n",
    "df['duration_hour'] = df['duration_min']/60"
   ]
  },
  {
   "cell_type": "code",
   "execution_count": 11,
   "metadata": {
    "slideshow": {
     "slide_type": "skip"
    }
   },
   "outputs": [],
   "source": [
    "# Convert bike_id to str type\n",
    "df['bike_id'] = df['bike_id'].astype(str)"
   ]
  },
  {
   "cell_type": "code",
   "execution_count": null,
   "metadata": {
    "slideshow": {
     "slide_type": "skip"
    }
   },
   "outputs": [],
   "source": [
    "def calc_distance(x):\n",
    "    start = (x.start_station_latitude, x.start_station_longitude)\n",
    "    end = (x.end_station_latitude, x.end_station_longitude)\n",
    "    return geopy.distance.geodesic(start, end ).km\n",
    "df['distance'] = df.apply(calc_distance, axis = 1)"
   ]
  },
  {
   "cell_type": "code",
   "execution_count": null,
   "metadata": {
    "slideshow": {
     "slide_type": "skip"
    }
   },
   "outputs": [],
   "source": [
    "# Data wrangling,removing data trips with inconsistent or missing data.\n",
    "df.drop(df[(df['Age'] >= 80) ].index, inplace=True)\n",
    "df = df[df.distance != 0]\n",
    "df['speed'] = df['distance']/df['duration_hour']\n",
    "df.drop(df[(df['speed'] <= 1.931285) ].index, inplace=True)\n",
    "df.drop([112038], inplace = True)"
   ]
  },
  {
   "cell_type": "code",
   "execution_count": null,
   "metadata": {
    "slideshow": {
     "slide_type": "skip"
    }
   },
   "outputs": [],
   "source": [
    "# Reorder columns and keep only the necessary ones\n",
    "df = df[['duration_min', 'distance','Date', 'start_dayofweek','start_hour','start_station_name','user_type','member_gender','bike_share_for_all_trip','Age','bike_id']]"
   ]
  },
  {
   "cell_type": "markdown",
   "metadata": {
    "slideshow": {
     "slide_type": "slide"
    }
   },
   "source": [
    "## Distribution of trip duration in minutes\n",
    "\n",
    "The average duration of bike rides is 10 minutes, however the median duration is 8.4 minutes. The histogram presents a normal distribution with a standard deviation of 7.1 minutes."
   ]
  },
  {
   "cell_type": "code",
   "execution_count": null,
   "metadata": {
    "slideshow": {
     "slide_type": "skip"
    }
   },
   "outputs": [],
   "source": [
    "m = statistics.mean(df['duration_min'] )\n",
    "std = statistics.stdev(df['duration_min'] )\n",
    "median = statistics.median(df['duration_min'] )\n",
    "print(f\"Mean =  {m}\")\n",
    "print(f\"Standard deviation =  {std}\")\n",
    "print(f\"Median =  {median}\")"
   ]
  },
  {
   "cell_type": "code",
   "execution_count": null,
   "metadata": {
    "scrolled": false,
    "slideshow": {
     "slide_type": "subslide"
    }
   },
   "outputs": [],
   "source": [
    "# Plot the trip duration on a log scale\n",
    "log_binsize = 0.1\n",
    "bins = 10 ** np.arange(np.log10(df['duration_min'].min()), np.log10(df['duration_min'].max())+log_binsize, log_binsize)\n",
    "\n",
    "plt.figure(figsize=[5, 5])\n",
    "plt.hist(data = df, x = 'duration_min', bins = bins, edgecolor='k', color ='#15616d' )\n",
    "plt.axvline(m, color ='r', linestyle='dashed')\n",
    "plt.axvline(median, color ='g', linestyle='dashed')\n",
    "plt.axvline(m+std, color ='y', linestyle='dashed')\n",
    "plt.axvline(m-std, color ='y', linestyle='dashed')\n",
    "plt.xscale('log')\n",
    "plt.title('Distribution of bike rides duration in minutes')\n",
    "plt.xticks([1, 10, 100] , ['1', '10', '100'])\n",
    "plt.xlabel('Trips duration')\n",
    "plt.show()"
   ]
  },
  {
   "cell_type": "markdown",
   "metadata": {
    "slideshow": {
     "slide_type": "slide"
    }
   },
   "source": [
    "## Top busiest stations\n",
    "> The frequent start station is **Market St at 10th St** with 3800 bicycle hires over the month followed by **San Francisco Caltrain Station 2** with 3500 bicycle hires.\n"
   ]
  },
  {
   "cell_type": "code",
   "execution_count": null,
   "metadata": {
    "slideshow": {
     "slide_type": "skip"
    }
   },
   "outputs": [],
   "source": [
    "top_stations = pd.DataFrame(df.groupby(['start_station_name']).count()\n",
    "                            ['bike_id'].sort_values(ascending = False)\n",
    "                            .head(10)).reset_index()"
   ]
  },
  {
   "cell_type": "code",
   "execution_count": null,
   "metadata": {
    "slideshow": {
     "slide_type": "subslide"
    }
   },
   "outputs": [],
   "source": [
    "Stations = px.histogram(top_stations, x=\"bike_id\",y=\"start_station_name\",\n",
    "                     color_discrete_sequence = ['#005f69'],title=\"Total number of rides per station\",text_auto='.2s', \n",
    "            labels={\n",
    "                     \"start_station_name\": \"Start station\",\n",
    "                     \"bike_id\": \"Number of Trips\",\n",
    "                 },)\n",
    "Stations.update_layout(yaxis={'categoryorder':'total ascending',},\n",
    "                   xaxis={'visible': False, 'showticklabels': False},\n",
    "                  yaxis_title=None)\n",
    "                  \n",
    "                  \n",
    "                   \n",
    "Stations.update_traces(textfont_size=12, textangle=0, \n",
    "                   textposition=\"outside\",\n",
    "                    cliponaxis=False\n",
    "                  )\n",
    "Stations.show()"
   ]
  },
  {
   "cell_type": "markdown",
   "metadata": {
    "slideshow": {
     "slide_type": "slide"
    }
   },
   "source": [
    "## Busiest day of the week \n",
    ">Weekdays are the days with the highest number of bicycle hires. Thursday is the busiest day , with a bicycle hires range from 8973 to 9498.\n",
    "In general, one can notice a moderate uptick in weekends compared to weekdays. \n"
   ]
  },
  {
   "cell_type": "code",
   "execution_count": null,
   "metadata": {
    "slideshow": {
     "slide_type": "skip"
    }
   },
   "outputs": [],
   "source": [
    "Date = pd.DataFrame(df.groupby(['Date', 'start_dayofweek']).count()['bike_id']).reset_index()"
   ]
  },
  {
   "cell_type": "code",
   "execution_count": null,
   "metadata": {
    "slideshow": {
     "slide_type": "subslide"
    }
   },
   "outputs": [],
   "source": [
    "Day = px.scatter(Date, x=\"Date\", y=\"start_dayofweek\", color = 'start_dayofweek',\n",
    "                 color_discrete_sequence=[\"#00308F\", \"#72A0C1\", '#89CFF0', \"#5F9EA0\", \"#00CED1\",'#008E97', \"#005f69\"],\n",
    "\n",
    "           labels={\"bike_id\": \"Number of rides\"},\n",
    "           size=\"bike_id\",size_max=30,\n",
    ")\n",
    "#Day.update_layout(yaxis={'categoryorder':'total descending',},\n",
    "                   #xaxis={'visible': True, 'showticklabels': True},\n",
    "                  #yaxis_title=None)\n",
    "\n",
    "Day.update_layout(\n",
    "    title='Total number of bicycle hires per day in February 2019',\n",
    "    yaxis={'visible': False, 'showticklabels': True},\n",
    "    yaxis_title=None,\n",
    "    xaxis_title=None,\n",
    "    paper_bgcolor='rgb(243, 243, 243)',\n",
    "    plot_bgcolor='rgb(243, 243, 243)',\n",
    ")\n",
    "Day.show()"
   ]
  },
  {
   "cell_type": "markdown",
   "metadata": {
    "slideshow": {
     "slide_type": "slide"
    }
   },
   "source": [
    "## Top stations by trip duration and distance\n",
    "All the top 5 stations have the same trip duration average of about 10 min. However, regarding the average distance Berry St at 4th St has the max average distance followed by Market St at 10th St.\n",
    "\n"
   ]
  },
  {
   "cell_type": "code",
   "execution_count": null,
   "metadata": {
    "scrolled": false,
    "slideshow": {
     "slide_type": "subslide"
    }
   },
   "outputs": [],
   "source": [
    "Top_stations = df['start_station_name'].value_counts()[:5].index\n",
    "fig, ax = plt.subplots(nrows = 2, figsize = [12,10])\n",
    "plt.subplot(2,1,1)\n",
    "sb.boxplot(data = df, x='duration_min', y='start_station_name', order=Top_stations, color='#84C318')\n",
    "ax[0].set_title('Trip duration for the busiest stations')\n",
    "ax[0].set_yticklabels([],minor = True)\n",
    "ax[0].set(ylabel = None)\n",
    "ax[0].set(xlabel = None)\n",
    "\n",
    "\n",
    "plt.subplot(2,1,2)\n",
    "sb.boxplot(data = df, x='distance', y='start_station_name', order=Top_stations, color='#84C318')\n",
    "ax[1].set_title('Trip distance for the busiest stations')\n",
    "ax[1].set_yticklabels([],minor = True)\n",
    "ax[1].set(ylabel = None)\n",
    "ax[1].set(xlabel = None);\n",
    "\n"
   ]
  },
  {
   "cell_type": "markdown",
   "metadata": {
    "slideshow": {
     "slide_type": "slide"
    }
   },
   "source": [
    "### Distribution of start hours Vs. days\n",
    ">During weekdays the start hours of rides tend to be in the morning around 8 am or in the evening around 5 pm, wich means the rush hours. However, during weekends, the bicycle hires tend to be all the day with an importante hires the afternoon."
   ]
  },
  {
   "cell_type": "code",
   "execution_count": null,
   "metadata": {
    "scrolled": false,
    "slideshow": {
     "slide_type": "subslide"
    }
   },
   "outputs": [],
   "source": [
    "ax = sb.violinplot(data=df, x='start_dayofweek', y='start_hour', color = '#5F9EA0');\n",
    "plt.title('Distribution of the start hours of trips per day of the week')\n",
    "plt.ylabel('Start hour')\n",
    "ax.set(xlabel = None);"
   ]
  },
  {
   "cell_type": "markdown",
   "metadata": {
    "slideshow": {
     "slide_type": "slide"
    }
   },
   "source": [
    "## Distribution of rush hours per day for busiest stations\n",
    "The figure is devided into days of the week so, we can see for each day what station is the busiest and at what hour. At mondays for instance, San Fransisco Caltrain Station 2 is the station with the highest number of bicycle hires espacially between 6 and 9 am. Therefore, there should be enough bicycles."
   ]
  },
  {
   "cell_type": "code",
   "execution_count": null,
   "metadata": {
    "scrolled": true,
    "slideshow": {
     "slide_type": "skip"
    }
   },
   "outputs": [],
   "source": [
    "rush_hour_perday_perstation = df.groupby(['start_station_name', 'start_dayofweek','start_hour'])['bike_id'].count()\n",
    "rush_hour_perday_perstation = rush_hour_perday_perstation.reset_index(name = 'count')"
   ]
  },
  {
   "cell_type": "code",
   "execution_count": null,
   "metadata": {
    "scrolled": false,
    "slideshow": {
     "slide_type": "subslide"
    }
   },
   "outputs": [],
   "source": [
    "times = df.start_hour.unique()\n",
    "g = sb.FacetGrid(rush_hour_perday_perstation, col=\"start_dayofweek\",\n",
    "                 hue=\"start_hour\",hue_order = times,\n",
    "                   aspect=2, col_wrap=2, palette = 'tab20')\n",
    "g.map(sb.barplot, 'count', 'start_station_name', order=Top_stations ).add_legend()\n",
    "g.figure.subplots_adjust(top=0.9);\n",
    "g.fig.suptitle(\" Distribution of rush hours per day for busiest stations\",fontsize=24, fontdict={\"weight\": \"bold\"})\n",
    "g.set(ylabel = None)\n",
    "g.set(xlabel = None);"
   ]
  },
  {
   "cell_type": "code",
   "execution_count": null,
   "metadata": {},
   "outputs": [],
   "source": [
    "!jupyter nbconvert Explanatory_Data_Visualization.ipynb --to slides --post serve --no-input --no-prompt"
   ]
  },
  {
   "cell_type": "code",
   "execution_count": null,
   "metadata": {},
   "outputs": [],
   "source": []
  },
  {
   "cell_type": "code",
   "execution_count": null,
   "metadata": {},
   "outputs": [],
   "source": []
  },
  {
   "cell_type": "code",
   "execution_count": null,
   "metadata": {},
   "outputs": [],
   "source": []
  }
 ],
 "metadata": {
  "celltoolbar": "Slideshow",
  "kernelspec": {
   "display_name": "Python 3 (ipykernel)",
   "language": "python",
   "name": "python3"
  },
  "language_info": {
   "codemirror_mode": {
    "name": "ipython",
    "version": 3
   },
   "file_extension": ".py",
   "mimetype": "text/x-python",
   "name": "python",
   "nbconvert_exporter": "python",
   "pygments_lexer": "ipython3",
   "version": "3.10.6"
  }
 },
 "nbformat": 4,
 "nbformat_minor": 2
}
