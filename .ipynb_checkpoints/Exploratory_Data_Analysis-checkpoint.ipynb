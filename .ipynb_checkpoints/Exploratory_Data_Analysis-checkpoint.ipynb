{
 "cells": [
  {
   "cell_type": "markdown",
   "metadata": {},
   "source": [
    "#  <center>Ford GoBike System </center>\n",
    "\n",
    "## <center>Exploratory Data Analysis - by Donia Djerbi</center>\n",
    "\n",
    "## Introduction\n",
    ">  This data set includes informations about individual rides made in a bike-sharing system covering the greater San Francisco Bay area for the periode of February 2019.\n",
    "\n",
    "\n",
    "\n",
    "\n",
    "## Preliminary Wrangling\n"
   ]
  },
  {
   "cell_type": "code",
   "execution_count": 1,
   "metadata": {},
   "outputs": [],
   "source": [
    "# import all packages and set plots to be embedded inline\n",
    "import numpy as np\n",
    "import pandas as pd\n",
    "import matplotlib.pyplot as plt\n",
    "import seaborn as sb\n",
    "sb.set_theme()\n",
    "import plotly.express as px\n",
    "import statistics\n",
    "\n",
    "\n",
    "# Import library and module to calculate the distance\n",
    "import geopy.distance\n",
    "from geopy.distance import geodesic\n",
    "\n",
    "%matplotlib inline"
   ]
  },
  {
   "cell_type": "code",
   "execution_count": 2,
   "metadata": {
    "scrolled": true
   },
   "outputs": [],
   "source": [
    "# load in the dataset into a pandas dataframe, print statistics\n",
    "bike = pd.read_csv('201902-fordgobike-tripdata.csv')"
   ]
  },
  {
   "cell_type": "code",
   "execution_count": 3,
   "metadata": {},
   "outputs": [
    {
     "name": "stdout",
     "output_type": "stream",
     "text": [
      "<class 'pandas.core.frame.DataFrame'>\n",
      "RangeIndex: 183412 entries, 0 to 183411\n",
      "Data columns (total 16 columns):\n",
      " #   Column                   Non-Null Count   Dtype  \n",
      "---  ------                   --------------   -----  \n",
      " 0   duration_sec             183412 non-null  int64  \n",
      " 1   start_time               183412 non-null  object \n",
      " 2   end_time                 183412 non-null  object \n",
      " 3   start_station_id         183215 non-null  float64\n",
      " 4   start_station_name       183215 non-null  object \n",
      " 5   start_station_latitude   183412 non-null  float64\n",
      " 6   start_station_longitude  183412 non-null  float64\n",
      " 7   end_station_id           183215 non-null  float64\n",
      " 8   end_station_name         183215 non-null  object \n",
      " 9   end_station_latitude     183412 non-null  float64\n",
      " 10  end_station_longitude    183412 non-null  float64\n",
      " 11  bike_id                  183412 non-null  int64  \n",
      " 12  user_type                183412 non-null  object \n",
      " 13  member_birth_year        175147 non-null  float64\n",
      " 14  member_gender            175147 non-null  object \n",
      " 15  bike_share_for_all_trip  183412 non-null  object \n",
      "dtypes: float64(7), int64(2), object(7)\n",
      "memory usage: 22.4+ MB\n"
     ]
    }
   ],
   "source": [
    "bike.info()"
   ]
  },
  {
   "cell_type": "code",
   "execution_count": 4,
   "metadata": {},
   "outputs": [
    {
     "data": {
      "text/plain": [
       "8265"
      ]
     },
     "execution_count": 4,
     "metadata": {},
     "output_type": "execute_result"
    }
   ],
   "source": [
    "bike.member_birth_year.isnull().sum()"
   ]
  },
  {
   "cell_type": "code",
   "execution_count": 5,
   "metadata": {},
   "outputs": [
    {
     "data": {
      "text/plain": [
       "count    175147.000000\n",
       "mean       1984.806437\n",
       "std          10.116689\n",
       "min        1878.000000\n",
       "25%        1980.000000\n",
       "50%        1987.000000\n",
       "75%        1992.000000\n",
       "max        2001.000000\n",
       "Name: member_birth_year, dtype: float64"
      ]
     },
     "execution_count": 5,
     "metadata": {},
     "output_type": "execute_result"
    }
   ],
   "source": [
    "bike.member_birth_year.describe()"
   ]
  },
  {
   "cell_type": "code",
   "execution_count": 6,
   "metadata": {},
   "outputs": [],
   "source": [
    "# Convert the member birth year to int and fill the nan values with the mean birth year\n",
    "bike['member_birth_year'] = pd.to_numeric(bike['member_birth_year'], errors='coerce').fillna(1984).astype(int)"
   ]
  },
  {
   "cell_type": "code",
   "execution_count": 7,
   "metadata": {},
   "outputs": [],
   "source": [
    "# Make copy of original data\n",
    "df = bike.copy()"
   ]
  },
  {
   "cell_type": "code",
   "execution_count": 8,
   "metadata": {},
   "outputs": [],
   "source": [
    "# Convert start_time and end_time to datetime\n",
    "df['start_time'] = pd.to_datetime(df['start_time'])\n",
    "df['end_time'] = pd.to_datetime(df['end_time'])"
   ]
  },
  {
   "cell_type": "code",
   "execution_count": 9,
   "metadata": {},
   "outputs": [],
   "source": [
    "# Find correspanding start hour and day of the week\n",
    "df['start_hour'] = df.start_time.dt.hour\n",
    "df['start_dayofweek'] = df.start_time.dt.day_name()\n",
    "df['Year'] = df.start_time.dt.year"
   ]
  },
  {
   "cell_type": "code",
   "execution_count": 10,
   "metadata": {},
   "outputs": [],
   "source": [
    "df['Date'] = df.start_time.dt.date\n",
    "df['Date'] = pd.to_datetime(df['Date'])"
   ]
  },
  {
   "cell_type": "code",
   "execution_count": 11,
   "metadata": {},
   "outputs": [],
   "source": [
    "# Find correspanding end hour and day of the week\n",
    "df['end_hour'] = df.end_time.dt.hour\n",
    "df['end_dayofweek'] = df.end_time.dt.day_name()"
   ]
  },
  {
   "cell_type": "code",
   "execution_count": 12,
   "metadata": {},
   "outputs": [],
   "source": [
    "# Define the order of days\n",
    "cat_type = pd.api.types.CategoricalDtype(categories=['Monday', 'Tuesday', 'Wednesday', 'Thursday', 'Friday', 'Saturday', 'Sunday'], ordered=True)\n",
    "df['start_dayofweek']  = df['start_dayofweek'].astype(cat_type)\n",
    "df['end_dayofweek']  = df['end_dayofweek'].astype(cat_type)"
   ]
  },
  {
   "cell_type": "code",
   "execution_count": 13,
   "metadata": {},
   "outputs": [],
   "source": [
    "# Find the age of the users\n",
    "df['Age'] = 2019 - df['member_birth_year']"
   ]
  },
  {
   "cell_type": "code",
   "execution_count": 14,
   "metadata": {},
   "outputs": [
    {
     "data": {
      "text/plain": [
       "count    183412.000000\n",
       "mean         34.229903\n",
       "std           9.887534\n",
       "min          18.000000\n",
       "25%          27.000000\n",
       "50%          32.000000\n",
       "75%          38.000000\n",
       "max         141.000000\n",
       "Name: Age, dtype: float64"
      ]
     },
     "execution_count": 14,
     "metadata": {},
     "output_type": "execute_result"
    }
   ],
   "source": [
    "df.describe().Age"
   ]
  },
  {
   "cell_type": "code",
   "execution_count": 15,
   "metadata": {},
   "outputs": [
    {
     "data": {
      "image/png": "[encoded data removed]",
      "text/plain": [
       "<Figure size 300x300 with 1 Axes>"
      ]
     },
     "metadata": {},
     "output_type": "display_data"
    }
   ],
   "source": [
    "df['Age'].plot(kind = 'box', figsize = (3,3));"
   ]
  },
  {
   "cell_type": "code",
   "execution_count": 16,
   "metadata": {},
   "outputs": [],
   "source": [
    "# Drop rows with the age equal or more then 80\n",
    "df.drop(df[(df['Age'] >= 80) ].index, inplace=True)"
   ]
  },
  {
   "cell_type": "code",
   "execution_count": 17,
   "metadata": {},
   "outputs": [],
   "source": [
    "# Convert member_gender and user_type to category data type\n",
    "df['member_gender'] = df['member_gender'].astype('category')\n",
    "df['user_type'] = df['user_type'].astype('category')\n",
    "df['bike_share_for_all_trip'] = df['bike_share_for_all_trip'].astype('category')"
   ]
  },
  {
   "cell_type": "code",
   "execution_count": 18,
   "metadata": {},
   "outputs": [],
   "source": [
    "# Get the ride duration per minute\n",
    "df['duration_min'] = df['duration_sec']/ 60\n",
    "\n",
    "# Get the ride duration per hour \n",
    "df['duration_hour'] = df['duration_min']/60"
   ]
  },
  {
   "cell_type": "code",
   "execution_count": 19,
   "metadata": {},
   "outputs": [],
   "source": [
    "# Convert bike_id to str type\n",
    "df['bike_id'] = df['bike_id'].astype(str)"
   ]
  },
  {
   "cell_type": "markdown",
   "metadata": {},
   "source": [
    "Lets calculate the distance between the start station and the end station, which could means also the travelled distance."
   ]
  },
  {
   "cell_type": "code",
   "execution_count": null,
   "metadata": {},
   "outputs": [],
   "source": [
    "def calc_distance(x):\n",
    "    start = (x.start_station_latitude, x.start_station_longitude)\n",
    "    end = (x.end_station_latitude, x.end_station_longitude)\n",
    "    return geopy.distance.geodesic(start, end ).km\n",
    "df['distance'] = df.apply(calc_distance, axis = 1)"
   ]
  },
  {
   "cell_type": "code",
   "execution_count": null,
   "metadata": {},
   "outputs": [],
   "source": [
    "# Reorder columns and keep only the necessary ones\n",
    "df = df[['duration_hour','duration_min', 'distance','Date', 'start_dayofweek','start_hour','end_dayofweek','end_hour','start_station_name','end_station_name','user_type','member_gender','bike_share_for_all_trip','Age','bike_id']]"
   ]
  },
  {
   "cell_type": "code",
   "execution_count": null,
   "metadata": {
    "scrolled": false
   },
   "outputs": [],
   "source": [
    "df.info()"
   ]
  },
  {
   "cell_type": "code",
   "execution_count": null,
   "metadata": {
    "scrolled": true
   },
   "outputs": [],
   "source": [
    "df.describe()"
   ]
  },
  {
   "cell_type": "code",
   "execution_count": null,
   "metadata": {},
   "outputs": [],
   "source": [
    "print(f\"Number of unique start stations: {df['start_station_name'].nunique()}\")\n",
    "print(f\"Number of unique end stations: {df['end_station_name'].nunique()}\")"
   ]
  },
  {
   "cell_type": "code",
   "execution_count": null,
   "metadata": {},
   "outputs": [],
   "source": [
    "print(f\"Type of users: {df['user_type'].unique()}\")\n",
    "print(f\"Member gender: {df['member_gender'].unique()}\")"
   ]
  },
  {
   "cell_type": "markdown",
   "metadata": {},
   "source": [
    "### What is the structure of your dataset?\n",
    "\n",
    ">The dataset consists of 183340 bike trips data with 15 features(duration_min, distance, start_dayofweek, start_hour, end_dayofweek, end_hour, start_station_name, end_station_name, user_type, member_gender, bike_share_for_all_trip, Age, bike_id). There are 5 categorial data types, 3 object data types and 6 numerical data types and one datetime.\n",
    "\n",
    "### What is/are the main feature(s) of interest in your dataset?\n",
    "\n",
    "> I am interested in figuring out what are the most important features that have an impact on the choice of the start station.\n",
    "\n",
    "### What features in the dataset do you think will help support your investigation into your feature(s) of interest?\n",
    "\n",
    "> I expect that the variables of the ride starting data as well as the user's type could have a strong effect."
   ]
  },
  {
   "cell_type": "markdown",
   "metadata": {},
   "source": [
    "## Univariate Exploration"
   ]
  },
  {
   "cell_type": "code",
   "execution_count": null,
   "metadata": {},
   "outputs": [],
   "source": [
    "# Define a function to plot histograms \n",
    "def hist_func(S,A, Title):\n",
    "    binsize = S\n",
    "    bins = np.arange(df[A].min(), df[A].max()+binsize, binsize)\n",
    "    plt.figure(figsize = (5,4))\n",
    "    fig = sb.histplot(data=df, x = A, bins=bins, color='#15616d')\n",
    "    plt.xlabel(A)\n",
    "    title = plt.title(Title)\n",
    "    plt.show()\n",
    "    return fig "
   ]
  },
  {
   "cell_type": "markdown",
   "metadata": {},
   "source": [
    "I will start by looking at the main feature: the trip duration\n",
    "###  Rides duration's distribution in minutes"
   ]
  },
  {
   "cell_type": "code",
   "execution_count": null,
   "metadata": {},
   "outputs": [],
   "source": [
    "hist_func(20, 'duration_min', 'Distribution of trip duration in minutes');"
   ]
  },
  {
   "cell_type": "markdown",
   "metadata": {},
   "source": [
    "Let's take a closer look and plot the trip duration on a log scale"
   ]
  },
  {
   "cell_type": "code",
   "execution_count": null,
   "metadata": {},
   "outputs": [],
   "source": [
    "m = statistics.mean(df['duration_min'] )\n",
    "std = statistics.stdev(df['duration_min'] )\n",
    "median = statistics.median(df['duration_min'] )\n",
    "print(f\"Mean =  {m}\")\n",
    "print(f\"Standard deviation =  {std}\")\n",
    "print(f\"Median =  {median}\")"
   ]
  },
  {
   "cell_type": "code",
   "execution_count": null,
   "metadata": {
    "scrolled": false
   },
   "outputs": [],
   "source": [
    "# Plot the trip duration on a log scale\n",
    "log_binsize = 0.1\n",
    "bins = 10 ** np.arange(np.log10(df['duration_min'].min()), np.log10(df['duration_min'].max())+log_binsize, log_binsize)\n",
    "\n",
    "plt.figure(figsize=[5, 5])\n",
    "plt.hist(data = df, x = 'duration_min', bins = bins, edgecolor='k')\n",
    "plt.axvline(m, color ='r', linestyle='dashed')\n",
    "plt.axvline(median, color ='g', linestyle='dashed')\n",
    "plt.axvline(m+std, color ='y', linestyle='dashed')\n",
    "plt.axvline(m-std, color ='y', linestyle='dashed')\n",
    "plt.xscale('log')\n",
    "#plt.xlim((0,50 ))\n",
    "plt.xlabel('Distribution of bike ride duration in minutes')\n",
    "plt.ylabel('Counts')\n",
    "plt.show()"
   ]
  },
  {
   "cell_type": "markdown",
   "metadata": {},
   "source": [
    "We can see that the average duration of bike rides is 12 minutes however the median duration is 8 minutes. The hystogram presents an asymmetric normal distribution with a standard deviation  of 29.9 wich means that the data is spread. The mean is higher than the median, so, it is a right-skewed data. "
   ]
  },
  {
   "cell_type": "markdown",
   "metadata": {},
   "source": [
    "Find the outliers"
   ]
  },
  {
   "cell_type": "code",
   "execution_count": null,
   "metadata": {},
   "outputs": [],
   "source": [
    "from scipy.stats import iqr"
   ]
  },
  {
   "cell_type": "code",
   "execution_count": null,
   "metadata": {},
   "outputs": [],
   "source": [
    "# Calculate the interquartile range IQR of the ride duration per minutes then calculate the lower and the upper thresholds\n",
    "iqr = iqr(df['duration_min'])\n",
    "lower_threshold = np.quantile(df['duration_min'], 0.25) - 1.5 * iqr\n",
    "upper_threshold = np.quantile(df['duration_min'], 0.75) + 1.5 * iqr"
   ]
  },
  {
   "cell_type": "code",
   "execution_count": null,
   "metadata": {
    "scrolled": false
   },
   "outputs": [],
   "source": [
    "# Subset the data frame to find rides with duration above and below thresholds\n",
    "outliers = df[(df['duration_min'] < lower_threshold) | (df['duration_min'] > upper_threshold)]"
   ]
  },
  {
   "cell_type": "code",
   "execution_count": null,
   "metadata": {
    "scrolled": false
   },
   "outputs": [],
   "source": [
    "# Plot the trip duration on a log scale\n",
    "log_binsize = 0.05\n",
    "bins = 10 ** np.arange(np.log10(outliers['duration_min'].min()),\n",
    "                       np.log10(outliers['duration_min'].max())+log_binsize, log_binsize)\n",
    "\n",
    "plt.figure(figsize=[5, 5])\n",
    "plt.hist(data = outliers, x = 'duration_min', bins = bins, edgecolor='k')\n",
    "plt.xscale('log')\n",
    "plt.axvline(m, color ='r', linestyle='dashed')\n",
    "plt.axvline(median, color ='g', linestyle='dashed')\n",
    "plt.axvline(m+std, color ='y', linestyle='dashed')\n",
    "plt.xlabel('Distribution of bike rides duration outliers in minutes')\n",
    "plt.ylabel('Counts')\n",
    "plt.show()"
   ]
  },
  {
   "cell_type": "markdown",
   "metadata": {},
   "source": [
    "All the ride duration outliers are above 25 minutes and some of them go even until 1000 min."
   ]
  },
  {
   "cell_type": "markdown",
   "metadata": {},
   "source": [
    "###  Rides distance's distribution in km"
   ]
  },
  {
   "cell_type": "code",
   "execution_count": null,
   "metadata": {
    "scrolled": false
   },
   "outputs": [],
   "source": [
    "hist_func(2, 'distance', 'Trip distance distribution in meters');"
   ]
  },
  {
   "cell_type": "code",
   "execution_count": null,
   "metadata": {},
   "outputs": [],
   "source": [
    "df.distance.describe()"
   ]
  },
  {
   "cell_type": "markdown",
   "metadata": {},
   "source": [
    "As it can be seen, the minimum distance is equal to zero. This is because the start station and the end station of the ride are the same, therefor when using the function **calc_distance** the result is zero.\\\n",
    "For the accuracy of the distance analysis, I will drop the rows where the distance is zero."
   ]
  },
  {
   "cell_type": "code",
   "execution_count": null,
   "metadata": {},
   "outputs": [],
   "source": [
    "df[df['distance'] == 0]"
   ]
  },
  {
   "cell_type": "markdown",
   "metadata": {},
   "source": [
    "Since the data with the distance equal to zero presents only 2% of the dataset, I will drop these rows."
   ]
  },
  {
   "cell_type": "code",
   "execution_count": null,
   "metadata": {
    "scrolled": true
   },
   "outputs": [],
   "source": [
    "# Copy of the dataframe with distance more than zero\n",
    "df = df[df.distance != 0]"
   ]
  },
  {
   "cell_type": "markdown",
   "metadata": {},
   "source": [
    "Looking for outliers."
   ]
  },
  {
   "cell_type": "code",
   "execution_count": null,
   "metadata": {},
   "outputs": [],
   "source": [
    "from scipy.stats import iqr\n",
    "iqr2 = iqr (df['distance'])\n",
    "lower_threshold2 = np.quantile(df['distance'], 0.25) - 1.5 * iqr2\n",
    "upper_threshold2 = np.quantile(df['distance'], 0.75) + 1.5 * iqr2"
   ]
  },
  {
   "cell_type": "code",
   "execution_count": null,
   "metadata": {
    "scrolled": true
   },
   "outputs": [],
   "source": [
    "# Subset the data frame to find rides with duration above and below thresholds\n",
    "distance_outliers = df[(df['distance'] < lower_threshold) | (df['distance'] > upper_threshold)]\n",
    "distance_outliers"
   ]
  },
  {
   "cell_type": "markdown",
   "metadata": {},
   "source": [
    "With the existance of only one outlier, it will be droped."
   ]
  },
  {
   "cell_type": "code",
   "execution_count": null,
   "metadata": {},
   "outputs": [],
   "source": [
    "df.drop([112038], inplace = True)"
   ]
  },
  {
   "cell_type": "code",
   "execution_count": null,
   "metadata": {},
   "outputs": [],
   "source": [
    "# Find the mean, median and standard deviation\n",
    "m_distance = statistics.mean(df['distance'] )\n",
    "std_distance = statistics.stdev(df['distance'] )\n",
    "median_distance = statistics.median(df['distance'] )\n",
    "print(f\"Mean =  {m_distance}\")\n",
    "print(f\"Standard deviation =  {std_distance}\")\n",
    "print(f\"Median =  {median_distance}\")\n",
    "print(np.quantile(df['distance'], np.linspace(0, 1, 5)))"
   ]
  },
  {
   "cell_type": "code",
   "execution_count": null,
   "metadata": {
    "scrolled": false
   },
   "outputs": [],
   "source": [
    "hist_func(1, 'distance', 'Trip distance distribution in km');"
   ]
  },
  {
   "cell_type": "markdown",
   "metadata": {},
   "source": [
    ">The histogram presents an asymetric distribution, right-skewed with a mean of 1.72 km.\\\n"
   ]
  },
  {
   "cell_type": "markdown",
   "metadata": {},
   "source": [
    "### User's age distribution"
   ]
  },
  {
   "cell_type": "code",
   "execution_count": null,
   "metadata": {
    "scrolled": false
   },
   "outputs": [],
   "source": [
    "hist_func(2, 'Age', \"Users's Age distribution\");"
   ]
  },
  {
   "cell_type": "code",
   "execution_count": null,
   "metadata": {},
   "outputs": [],
   "source": [
    "df.Age.describe()"
   ]
  },
  {
   "cell_type": "markdown",
   "metadata": {},
   "source": [
    "> The histogram presents an asymetric and right-skewed distribution. Most of users's age is between 27 and 38. The data is spread with a standard deviation of 9.6 years."
   ]
  },
  {
   "cell_type": "markdown",
   "metadata": {},
   "source": [
    "###  Start and end hours distribution"
   ]
  },
  {
   "cell_type": "code",
   "execution_count": null,
   "metadata": {
    "scrolled": false
   },
   "outputs": [],
   "source": [
    "hist_func(1, 'start_hour', 'Distribution');"
   ]
  },
  {
   "cell_type": "code",
   "execution_count": null,
   "metadata": {
    "scrolled": false
   },
   "outputs": [],
   "source": [
    "hist_func(1, 'end_hour', 'Distribution');"
   ]
  },
  {
   "cell_type": "markdown",
   "metadata": {},
   "source": [
    ">From the two above histograms, we can see two peaks one during the morning rush hours between 8 - 10 am and another during the evening rush hour between 5 - 7 pm. Lower bicycle rides during the night's hours and some hires the rest of the day."
   ]
  },
  {
   "cell_type": "code",
   "execution_count": null,
   "metadata": {},
   "outputs": [],
   "source": [
    "# Create a function to calculate and plot percentages\n",
    "def percentage(A):\n",
    "    base_color = sb.color_palette()[0]\n",
    "    sb.countplot(data=df, x= A, color=base_color);\n",
    "\n",
    "\n",
    "    # Recalculating the type_counts just to have clarity.\n",
    "    type_counts = df[A].value_counts()\n",
    "\n",
    "     # get the current tick locations and labels\n",
    "    locs, labels = plt.xticks(rotation=90) \n",
    "\n",
    "    # loop through each pair of locations and labels\n",
    "    for loc, label in zip(locs, labels):\n",
    "\n",
    "         # get the text property for the label to get the correct count\n",
    "        count = type_counts[label.get_text()]\n",
    "        sum_days = df[A].value_counts().sum()\n",
    "        pct_string = '{:0.1f}%'.format(100*count/sum_days)\n",
    "\n",
    "        # print the annotation just below the top of the bar\n",
    "        plt.text(loc, count+2, pct_string, ha = 'center', color = 'black')"
   ]
  },
  {
   "cell_type": "markdown",
   "metadata": {},
   "source": [
    "### Distribution of   the categorial data types"
   ]
  },
  {
   "cell_type": "code",
   "execution_count": null,
   "metadata": {
    "scrolled": false
   },
   "outputs": [],
   "source": [
    "# let's plot all three together to get an idea of each ordinal variable's distribution.\n",
    "#plt.figure(figsize=[12, 6])\n",
    "fig, ax = plt.subplots(nrows=3, figsize = [5,8])\n",
    "fig.tight_layout(pad = 3)\n",
    "plt.subplot(3,1,1)\n",
    "percentage('user_type')\n",
    "\n",
    "plt.subplot(3,1,2)\n",
    "percentage('member_gender')\n",
    "\n",
    "plt.subplot(3,1,3)\n",
    "percentage('bike_share_for_all_trip')\n"
   ]
  },
  {
   "cell_type": "markdown",
   "metadata": {},
   "source": [
    ">It can be seen from the bar charts above that the vast majority of bike users are subscribers and they dont share the bike for all the trip. There is more male users than females."
   ]
  },
  {
   "cell_type": "markdown",
   "metadata": {},
   "source": [
    "### Distribution of the start day and the end day of the bicycle rides"
   ]
  },
  {
   "cell_type": "code",
   "execution_count": null,
   "metadata": {
    "scrolled": false
   },
   "outputs": [],
   "source": [
    "percentage('start_dayofweek')"
   ]
  },
  {
   "cell_type": "code",
   "execution_count": null,
   "metadata": {
    "scrolled": true
   },
   "outputs": [],
   "source": [
    "percentage('end_dayofweek')"
   ]
  },
  {
   "cell_type": "markdown",
   "metadata": {},
   "source": [
    "> Weekdays are the days where is the majority of rides with Thuesday with the highest percentage of 19.3%. However, weekends have the lowest percentages."
   ]
  },
  {
   "cell_type": "markdown",
   "metadata": {},
   "source": [
    "### Most common start and end stations"
   ]
  },
  {
   "cell_type": "code",
   "execution_count": null,
   "metadata": {
    "scrolled": true
   },
   "outputs": [],
   "source": [
    "base_color = sb.color_palette()[0]\n",
    "plt.figure(figsize = [10,8])\n",
    "\n",
    "# add frequency pokemon example\n",
    "# Bar chart on left, the start days of the week\n",
    "\n",
    "plt.subplot(2, 1, 1)\n",
    "top_stations = df['start_station_name'].value_counts()[:5].index\n",
    "sb.countplot(data = df, y ='start_station_name', color = base_color, order = top_stations)\n",
    "\n",
    "# Bar chart on right, the end days of the week\n",
    "plt.subplot(2, 1, 2)\n",
    "type_order = df['end_station_name'].value_counts()[:5].index\n",
    "sb.countplot(data = df, y ='end_station_name', color = base_color, order = type_order);"
   ]
  },
  {
   "cell_type": "markdown",
   "metadata": {},
   "source": [
    ">The frequent start station is **Market St at 10th St** and the frequent end station is **San Francisco Caltrain Station 2**"
   ]
  },
  {
   "cell_type": "markdown",
   "metadata": {},
   "source": [
    "### Discuss the distribution(s) of your variable(s) of interest. Were there any unusual points? Did you need to perform any transformations?\n",
    "\n",
    "> The rides duration in minutes took on a large range of values, so I changed the x axis to a log axis. After transformation, the data presents an asymetric normal distribution.\\\n",
    ">It seems that there is a data accuracy issue. there is no logic between ride duration ,the distance and the age. for the bivariate analysis, I will categorize the ages then, I will calculate the speed to have a clearer understanding.\n",
    "\n",
    "### Of the features you investigated, were there any unusual distributions? Did you perform any operations on the data to tidy, adjust, or change the form of the data? If so, why did you do this?\n",
    "\n",
    "> When plotting the distance distribution, some distances are equal to zero and there were outliers. First I dropped the rows with distance equal to zero.Then, I looked for outliers, there were only one equal to 69 Km. After dropping the outlier, the data presents a right-skewed distribution. \n",
    "> I dropped ages above 80 years for analysis consistancy."
   ]
  },
  {
   "cell_type": "markdown",
   "metadata": {},
   "source": [
    "## Bivariate Exploration"
   ]
  },
  {
   "cell_type": "markdown",
   "metadata": {},
   "source": [
    "First of all, I want to have a closer look at the relation between duration and distance. First, I will create a column for ages category, then I will calculate the speed."
   ]
  },
  {
   "cell_type": "code",
   "execution_count": null,
   "metadata": {},
   "outputs": [],
   "source": [
    "# Create ages categories\n",
    "bin_edges = [18, 25, 40, 50, 60, 78] \n",
    "bin_names = ['18-25', '26-40', '41-50', '51-60', '60 or more']\n",
    "df['Ages_category'] = pd.cut(df['Age'], bin_edges, labels=bin_names)"
   ]
  },
  {
   "cell_type": "code",
   "execution_count": null,
   "metadata": {},
   "outputs": [],
   "source": [
    "# Create speed column\n",
    "df['speed'] = df['distance']/df['duration_hour']\n",
    "df.speed.describe()"
   ]
  },
  {
   "cell_type": "code",
   "execution_count": null,
   "metadata": {},
   "outputs": [],
   "source": [
    "# Lookinf for outliers\n",
    "from scipy.stats import iqr\n",
    "iqrspeed = iqr (df['speed'])\n",
    "lower_thresholdspeed = np.quantile(df['speed'], 0.25) - 1.5 * iqrspeed\n",
    "upper_thresholdspeed = np.quantile(df['speed'], 0.75) + 1.5 * iqrspeed\n",
    "\n",
    "# Subset the data frame to find rides with duration above and below thresholds\n",
    "speed_outliers = df[(df['speed'] < lower_thresholdspeed) | (df['speed'] > upper_thresholdspeed)]"
   ]
  },
  {
   "cell_type": "code",
   "execution_count": null,
   "metadata": {},
   "outputs": [],
   "source": [
    "speed_outliers.speed.describe()"
   ]
  },
  {
   "cell_type": "code",
   "execution_count": null,
   "metadata": {},
   "outputs": [],
   "source": [
    "speed_outliers.groupby('Ages_category')['speed'].mean()"
   ]
  },
  {
   "cell_type": "code",
   "execution_count": null,
   "metadata": {
    "scrolled": true
   },
   "outputs": [],
   "source": [
    "df.query('speed >= 1.93 & Age >= 60')"
   ]
  },
  {
   "cell_type": "code",
   "execution_count": null,
   "metadata": {},
   "outputs": [],
   "source": [
    "sb.boxplot(data = df, x ='Ages_category', y = 'speed', color='#00A9A5');"
   ]
  },
  {
   "cell_type": "markdown",
   "metadata": {},
   "source": [
    ">For the ages category going from 18 years to 60 years, the mean speed of \n",
    "The average speed of a bike ride is 18-29 km/h. As expected, some speeds vs ages are way below the average as 75% of speeds outliers are below **1.931285**. For analysis consistancy, I will drop these rows."
   ]
  },
  {
   "cell_type": "code",
   "execution_count": null,
   "metadata": {},
   "outputs": [],
   "source": [
    "df.drop(df[(df['speed'] <= 1.931285) ].index, inplace=True)"
   ]
  },
  {
   "cell_type": "code",
   "execution_count": null,
   "metadata": {
    "scrolled": true
   },
   "outputs": [],
   "source": [
    "# Drop speed column as there is no need\n",
    "df.drop('speed', axis = 1, inplace = True)"
   ]
  },
  {
   "cell_type": "markdown",
   "metadata": {},
   "source": [
    ">Now, I want to look at the pairwise correlations present between features in the data"
   ]
  },
  {
   "cell_type": "code",
   "execution_count": null,
   "metadata": {},
   "outputs": [],
   "source": [
    "numeric_vars = ['distance', 'duration_min','Age', 'start_hour', 'end_hour', 'Date']\n",
    "categoric_vars = [ 'member_gender', 'bike_share_for_all_trip','user_type', 'Ages_category']"
   ]
  },
  {
   "cell_type": "code",
   "execution_count": null,
   "metadata": {},
   "outputs": [],
   "source": [
    "plt.figure(figsize = [8, 5])\n",
    "sb.heatmap(df[numeric_vars].corr(), annot = True, fmt = ' .3f', cmap = 'PuBuGn', center = 0)\n",
    "plt.show()"
   ]
  },
  {
   "cell_type": "markdown",
   "metadata": {},
   "source": [
    "### Is there a correlation between trip duration and the distance?"
   ]
  },
  {
   "cell_type": "code",
   "execution_count": null,
   "metadata": {
    "scrolled": false
   },
   "outputs": [],
   "source": [
    "# Scatter plot of distance vs. duration_min\n",
    "sb.regplot(data=df, x='distance', y='duration_min', truncate=False, scatter_kws={'alpha':1/10},\n",
    "           line_kws={\"color\": \"red\"})\n",
    "plt.xlabel('Distance (km)')\n",
    "plt.ylabel('Trip duration (min)')\n",
    "plt.title('Trip duration vs. distance distribution');"
   ]
  },
  {
   "cell_type": "markdown",
   "metadata": {},
   "source": [
    "As shown in the regression plot, there is a strong correlation with an r= 0.7, which indicates that the increase in one variable tends to increase the other one."
   ]
  },
  {
   "cell_type": "markdown",
   "metadata": {},
   "source": [
    "### Is there an effect of the user's age on the trip duration?"
   ]
  },
  {
   "cell_type": "code",
   "execution_count": null,
   "metadata": {
    "scrolled": false
   },
   "outputs": [],
   "source": [
    "plt.scatter(data=df, x='Age', y='duration_min', alpha = 1/10)\n",
    "plt.xlabel('Ages')\n",
    "plt.ylabel('Trip duration (min)')\n",
    "plt.title('Trip duration distribution per age');"
   ]
  },
  {
   "cell_type": "markdown",
   "metadata": {},
   "source": [
    ">There is not a strong correlation between age and trip duration, however the range of trip durations for all ages is between minutes and 50 minutes with outliers going until 250 min. However, for ages above 60, the trip duration decreases."
   ]
  },
  {
   "cell_type": "markdown",
   "metadata": {},
   "source": [
    "### What are the averages trip duration and distance for the top stations?"
   ]
  },
  {
   "cell_type": "code",
   "execution_count": null,
   "metadata": {
    "scrolled": false
   },
   "outputs": [],
   "source": [
    "plt.figure(figsize=(12,10))\n",
    "plt.subplot(2,1,1)\n",
    "sb.boxplot(data=df, x='duration_min', y='start_station_name', order=top_stations, color='#84C318')\n",
    "#plt.xticks(ticks=np.arange(0, 70, step=10))\n",
    "\n",
    "plt.subplot(2,1,2)\n",
    "sb.boxplot(data=df, x='distance', y='start_station_name', order=top_stations, color='#84C318')\n",
    "plt.title('Distribution of the duration of trips for the top stations')\n",
    "plt.show()"
   ]
  },
  {
   "cell_type": "markdown",
   "metadata": {},
   "source": [
    "> All the top 5 stations have the same trip duration average of about 10 min. However, regarding the average distance Berry St at 4th St has the max average distance followed by Market St at 10th St."
   ]
  },
  {
   "cell_type": "markdown",
   "metadata": {},
   "source": [
    "### What type of users have the highest number of bicycle hires?"
   ]
  },
  {
   "cell_type": "code",
   "execution_count": null,
   "metadata": {
    "scrolled": true
   },
   "outputs": [],
   "source": [
    "Top= pd.DataFrame(df.groupby(['Date','user_type']).count()['bike_id']).reset_index()\n",
    "Top"
   ]
  },
  {
   "cell_type": "code",
   "execution_count": null,
   "metadata": {},
   "outputs": [],
   "source": [
    "sb.lineplot(data = Top, x ='Date', y = 'bike_id', hue = 'user_type')\n",
    "plt.xticks(rotation = 15);"
   ]
  },
  {
   "cell_type": "markdown",
   "metadata": {},
   "source": [
    ">As expected, Subscribers have the highest number of trips with ups and downs during the weekdays and weekends. Unlike subscribers, customers have a steady progress of rides's number across the month."
   ]
  },
  {
   "cell_type": "markdown",
   "metadata": {},
   "source": [
    "> "
   ]
  },
  {
   "cell_type": "markdown",
   "metadata": {},
   "source": [
    "### Distribution of start hours Vs. days"
   ]
  },
  {
   "cell_type": "code",
   "execution_count": null,
   "metadata": {
    "scrolled": false
   },
   "outputs": [],
   "source": [
    "sb.violinplot(data=df, x='start_dayofweek', y='start_hour', color = '#90BAAD');\n",
    "plt.title('Distribution of the start hours of trips per day of the week');"
   ]
  },
  {
   "cell_type": "markdown",
   "metadata": {},
   "source": [
    ">As shown in the violin plot above, during weekdays the start hours of rides tend to be in the morning around 8 am or in the evening around 5 pm, which means at rush hours. However, during weekends, the bicycle hires tend to be all the day with an importante hires the afternoon."
   ]
  },
  {
   "cell_type": "markdown",
   "metadata": {},
   "source": [
    "### Distribution of start hours Vs. ages category"
   ]
  },
  {
   "cell_type": "code",
   "execution_count": null,
   "metadata": {},
   "outputs": [],
   "source": [
    "sb.violinplot(data=df, x='Ages_category', y='start_hour', color='#00A9A5');"
   ]
  },
  {
   "cell_type": "markdown",
   "metadata": {},
   "source": [
    ">It can be seen for ages below 60 years, that the bicycle hires are for the rush hours to go for work or to study. However for the riders above 60 years we can assume that the bicycle hires is equally distributed. "
   ]
  },
  {
   "cell_type": "markdown",
   "metadata": {},
   "source": [
    "## How is the progress of bicycle hires for each top station across the month?"
   ]
  },
  {
   "cell_type": "code",
   "execution_count": null,
   "metadata": {
    "scrolled": true
   },
   "outputs": [],
   "source": [
    "Station= pd.DataFrame(df.groupby(['Date','start_station_name']).count()['bike_id'].sort_values(ascending = False).head(50)).reset_index()"
   ]
  },
  {
   "cell_type": "code",
   "execution_count": null,
   "metadata": {},
   "outputs": [],
   "source": [
    "plt.figure(figsize = [15, 8])\n",
    "ax = sb.lineplot(data = Station, x ='Date', y = 'bike_id',\n",
    "                 hue = 'start_station_name',\n",
    "                 palette ='rocket',\n",
    "                )\n",
    "plt.xticks(rotation = 15)\n",
    "ax.legend(loc='upper center', bbox_to_anchor=(0.5, 1.05),\n",
    "          ncol=3, fancybox=True, shadow=True)\n",
    "\n",
    "plt.show();"
   ]
  },
  {
   "cell_type": "markdown",
   "metadata": {},
   "source": [
    "> San Fransisco Caltrain Station 2 and Market St have the highest number of trips with ups and downs across the month. However, Howard St have a steady number oh bicycle hires."
   ]
  },
  {
   "cell_type": "markdown",
   "metadata": {},
   "source": [
    "### Boxplots for categorical variables"
   ]
  },
  {
   "cell_type": "code",
   "execution_count": null,
   "metadata": {
    "scrolled": false
   },
   "outputs": [],
   "source": [
    "samples = df.sample(frac =.25)\n",
    "g = sb.PairGrid(data = samples, y_vars = ['duration_min', 'distance'], x_vars = categoric_vars, palette ='YlGnBu')\n",
    "g.map(sb.boxplot)"
   ]
  },
  {
   "cell_type": "markdown",
   "metadata": {},
   "source": [
    ">In the boxes plot above, I plotted a set of random samples of 25% of the rides.\n",
    "* Men tend to ride for longer distances and therefor, longer durations. \n",
    "* Riders who dont share the bike for all the trip have longer trips and spend more time.\n",
    "* There is no major difference between customers and subscibers in term of trip distance and the duration.\n",
    "* The agescategory between 26-40 tends to have longer rides."
   ]
  },
  {
   "cell_type": "markdown",
   "metadata": {},
   "source": [
    "### Categorial variables against the day of the week"
   ]
  },
  {
   "cell_type": "code",
   "execution_count": null,
   "metadata": {
    "scrolled": true
   },
   "outputs": [],
   "source": [
    "plt.figure(figsize = [8, 8])\n",
    "\n",
    "# subplot 1: start_dayofweek vs user_type\n",
    "plt.subplot(3, 1, 1)\n",
    "sb.countplot(data = df, x = 'start_dayofweek', hue = 'user_type', palette = 'Blues')\n",
    "\n",
    "# subplot 2: start_dayofweek vs. bike_share_for_all_trip\n",
    "plt.subplot(3, 1, 2)\n",
    "sb.countplot(data = df, x = 'start_dayofweek', hue = 'bike_share_for_all_trip', palette = 'Greens')\n",
    "\n",
    "\n",
    "# subplot 3: start_dayofweek vs. member_gender\n",
    "plt.subplot(3, 1, 3)\n",
    "sb.countplot(data = df, x = 'start_dayofweek', hue = 'member_gender', palette = 'YlGnBu')\n",
    "\n",
    "plt.show()\n"
   ]
  },
  {
   "cell_type": "markdown",
   "metadata": {},
   "source": [
    ">The three categorial variables represent a high number of rides at Thursdays as expected from the start day distribution. Additionally, with the plot above, we can see that the high majority of riders are subscribers, males and people who dont share the bike for all the trip. "
   ]
  },
  {
   "cell_type": "markdown",
   "metadata": {},
   "source": [
    "### Talk about some of the relationships you observed in this part of the investigation. How did the feature(s) of interest vary with other features in the dataset?\n",
    "\n",
    "> There is a relationship between the start hour and the day of the week. On the weekdays, the number of bicycle hires increases during the rush hours between 8 to 10 am and 5 to 7 pm. However, on weekends, there is no specific rush hour, bicycles are being hired all the day especially from 10am to 7pm.\n",
    "\n",
    "### Did you observe any interesting relationships between the other features (not the main feature(s) of interest)?\n",
    "\n",
    "> Interestingly, only subscribers have high number of trips. "
   ]
  },
  {
   "cell_type": "markdown",
   "metadata": {},
   "source": [
    "## Multivariate Exploration\n",
    "\n",
    ">For this part, I want to explore further more the effect of time and day on the station choice, as well as the effect of user type and gender in the trip distance and duration."
   ]
  },
  {
   "cell_type": "code",
   "execution_count": null,
   "metadata": {
    "scrolled": false
   },
   "outputs": [],
   "source": [
    "g = sb.FacetGrid(data = df, col = 'member_gender', row = 'user_type',hue = 'bike_share_for_all_trip', palette ='YlGnBu', margin_titles = True)\n",
    "g.map(plt.scatter, 'start_hour', 'duration_min').add_legend()"
   ]
  },
  {
   "cell_type": "markdown",
   "metadata": {},
   "source": [
    ">These scatter plots show clearly the tendancy of customers to not share the bike for all the trip, unlike subscribers. We can see as well, that female customers tend to have longer trips . This can be clarified with the heat map below."
   ]
  },
  {
   "cell_type": "code",
   "execution_count": null,
   "metadata": {},
   "outputs": [],
   "source": [
    "cat_means = df.groupby(['user_type', 'member_gender']).mean()['duration_min']\n",
    "cat_means = cat_means.reset_index(name = 'num_var2_avg')\n",
    "cat_means = cat_means.pivot(index = 'member_gender', columns = 'user_type',\n",
    "                            values = 'num_var2_avg')\n",
    "sb.heatmap(cat_means, annot = True, fmt = '.1f',\n",
    "           cbar_kws = {'label' : 'mean(duration_min)'}, cmap='viridis_r');"
   ]
  },
  {
   "cell_type": "markdown",
   "metadata": {},
   "source": [
    ">As expected, customer females have longer trips with an average of 15.8 minutes.\n",
    "> Now, I want to explore the effect of the day and the hour on the choice of the station."
   ]
  },
  {
   "cell_type": "markdown",
   "metadata": {},
   "source": [
    "## At what time, what day and which station is the highest number of bicycle hires?"
   ]
  },
  {
   "cell_type": "code",
   "execution_count": null,
   "metadata": {
    "scrolled": true
   },
   "outputs": [],
   "source": [
    "rush_hour_perday_perstation = df.groupby(['start_station_name', 'start_dayofweek','start_hour'])['bike_id'].count()\n",
    "rush_hour_perday_perstation = rush_hour_perday_perstation.reset_index(name = 'count')"
   ]
  },
  {
   "cell_type": "code",
   "execution_count": null,
   "metadata": {
    "scrolled": false
   },
   "outputs": [],
   "source": [
    "times = df.start_hour.unique()\n",
    "g = sb.FacetGrid(rush_hour_perday_perstation, col=\"start_dayofweek\",\n",
    "                 hue=\"start_hour\",hue_order = times,\n",
    "                   aspect=2, col_wrap=2, palette = 'Set3_r')\n",
    "g.map(sb.barplot, 'count', 'start_station_name', order=top_stations ).add_legend();"
   ]
  },
  {
   "cell_type": "markdown",
   "metadata": {},
   "source": [
    "> The figure above is devided into days of the week so, we can see for each day what station is the busiest and at what hour. At mondays for instance, San Fransisco Caltrain Station 2 is the station with the highest number of bicycle hires espacially between 6 and 9 am. Therefore, there should be enough bicycles.   "
   ]
  },
  {
   "cell_type": "markdown",
   "metadata": {},
   "source": [
    "### Talk about some of the relationships you observed in this part of the investigation. Were there features that strengthened each other in terms of looking at your feature(s) of interest?\n",
    "\n",
    "> I extended my investigation of station choice against trip duration and distance in this section by looking at the impact of the start hour and the day of the week. The multivariate exploration here showed that there indeed is a relationship between theses features.\n",
    "\n",
    "### Were there any interesting or surprising interactions between features?\n",
    "\n",
    "> Surprisengly, Monday is not the active day, Thursday is.\n",
    ">Interestingly, female customers have the highest average of trip duration. Customers do not share the bike for all the trip."
   ]
  },
  {
   "cell_type": "code",
   "execution_count": null,
   "metadata": {},
   "outputs": [],
   "source": []
  }
 ],
 "metadata": {
  "kernelspec": {
   "display_name": "Python 3 (ipykernel)",
   "language": "python",
   "name": "python3"
  },
  "language_info": {
   "codemirror_mode": {
    "name": "ipython",
    "version": 3
   },
   "file_extension": ".py",
   "mimetype": "text/x-python",
   "name": "python",
   "nbconvert_exporter": "python",
   "pygments_lexer": "ipython3",
   "version": "3.10.6"
  }
 },
 "nbformat": 4,
 "nbformat_minor": 2
}
